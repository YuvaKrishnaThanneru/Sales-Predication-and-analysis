{
 "cells": [
  {
   "cell_type": "code",
   "execution_count": null,
   "id": "6d3e0dab-5d0b-40c2-9d98-9605a5647b13",
   "metadata": {},
   "outputs": [],
   "source": [
    "import pandas as pd\n",
    "import numpy as np\n",
    "import matplotlib.pyplot as plt\n",
    "import seaborn as sns\n",
    "from sklearn.model_selection import train_test_split\n",
    "from sklearn.linear_model import LinearRegression\n",
    "from sklearn.metrics import r2_score\n",
    "\n",
    "# Load the dataset\n",
    "df = pd.read_csv(\"https://www.kaggle.com/datasets/heemalichaudhari/adidas-sales-dataset/data\")"
   ]
  },
  {
   "cell_type": "code",
   "execution_count": null,
   "id": "c55b0868-5969-417b-a05f-47bea5d1fd92",
   "metadata": {},
   "outputs": [],
   "source": [
    "# Preprocessing\n",
    "df.info()\n",
    "df = df.drop('Unnamed: 0', axis=1)\n",
    "df = df.drop([0, 1, 2], axis=0)\n",
    "df.columns = df.iloc[0]\n",
    "df = df.drop(3, axis=0)\n",
    "df = df.reset_index(drop=True)\n"
   ]
  },
  {
   "cell_type": "code",
   "execution_count": null,
   "id": "d7de9d50-c657-45d3-b72a-0e534e3061fa",
   "metadata": {},
   "outputs": [],
   "source": [
    "# Data Analysis\n",
    "df.describe()\n",
    "# Visualization - Total sales per Product\n",
    "top_products = df[['Product', 'Total Sales']].groupby('Product').sum()\n",
    "top_products.plot(kind='bar', figsize=(12, 7), title='Total sales per Product')\n",
    "plt.show()"
   ]
  },
  {
   "cell_type": "code",
   "execution_count": null,
   "id": "40733223-8c91-4cdc-855b-872456791217",
   "metadata": {},
   "outputs": [],
   "source": [
    "# Visualization - Total sales per Retailer\n",
    "top_retailers = df[['Retailer', 'Total Sales']].groupby('Retailer').sum()\n",
    "top_retailers.plot(kind='pie', subplots=True, figsize=(12, 7), title='Total sales per Retailer', autopct='%1.0f%%')\n",
    "plt.show()"
   ]
  },
  {
   "cell_type": "code",
   "execution_count": null,
   "id": "9dc5b8b4-1686-48c3-829b-4200a0fa5ed9",
   "metadata": {},
   "outputs": [],
   "source": [
    "# Visualization - Products price distribution\n",
    "df['Price per Unit'].plot(kind='hist', bins=25, figsize=(12, 7), title='Products price distribution')\n",
    "plt.show()"
   ]
  },
  {
   "cell_type": "code",
   "execution_count": null,
   "id": "3bedc0cd-d607-4bff-838c-dc3c7391499f",
   "metadata": {},
   "outputs": [],
   "source": [
    "# Visualization - Top Selling Methods\n",
    "top_salesmt = df[['Sales Method', 'Total Sales']].groupby('Sales Method').sum()\n",
    "top_salesmt.plot(kind='barh', title='Top Selling Methods')\n",
    "plt.show()"
   ]
  },
  {
   "cell_type": "code",
   "execution_count": null,
   "id": "ec2b1ab4-ac29-457c-b6f3-19fb7bf617e8",
   "metadata": {},
   "outputs": [],
   "source": [
    "# Machine Learning Part\n",
    "df2 = df.copy()\n",
    "df2['Region'] = pd.factorize(df2.Region)[0]\n",
    "df2['State'] = pd.factorize(df2.State)[0]\n",
    "df2['City'] = pd.factorize(df2.City)[0]\n",
    "df2['Product'] = pd.factorize(df2.Product)[0]\n",
    "df2['Retailer'] = pd.factorize(df2.Retailer)[0]\n",
    "df2.rename(columns={'Sales Method': 'Method'}, inplace=True)\n",
    "df2['Method'] = pd.factorize(df2.Method)[0]\n",
    "df2 = df2.drop(['Retailer ID', 'Invoice Date'], axis=1)\n",
    "df2['Units Sold'] = df2['Units Sold'].astype(int)\n",
    "df2['Total Sales'] = df2['Total Sales'].astype(int)\n",
    "df2['Operating Profit'] = df2['Operating Profit'].astype(int)\n",
    "df2['Retailer'] = df2['Retailer'].astype(int)"
   ]
  },
  {
   "cell_type": "code",
   "execution_count": null,
   "id": "6e253c42-43ed-4967-8d01-08706f0e0ba9",
   "metadata": {},
   "outputs": [],
   "source": [
    "# Finding correlation between Features\n",
    "corr = df2.corr()\n",
    "print(corr)\n",
    "sns.heatmap(df2.corr())"
   ]
  },
  {
   "cell_type": "code",
   "execution_count": null,
   "id": "7d999862-e575-4f36-81e9-74ddda03ccf1",
   "metadata": {},
   "outputs": [],
   "source": [
    "# Total Sales prediction using multiple linear regression model\n",
    "X = df2[['Region', 'State', 'City', 'Product', 'Retailer', 'Method', 'Units Sold', 'Price per Unit', 'Operating Profit']]\n",
    "Y = df2['Total Sales']\n",
    "\n",
    "X_train, X_test, y_train, y_test = train_test_split(X, Y, test_size=0.25, random_state=0)\n",
    "lr = LinearRegression()\n",
    "\n",
    "# Training the model\n",
    "lr.fit(X_train, y_train)\n",
    "y_pred = lr.predict(X_test)"
   ]
  },
  {
   "cell_type": "code",
   "execution_count": null,
   "id": "532d612e-c6b3-4fd7-8b3a-6133f454ad80",
   "metadata": {},
   "outputs": [],
   "source": [
    "# Calculating R squared value\n",
    "r2 = r2_score(y_test, y_pred)\n",
    "print(\"R squared value:\", r2)"
   ]
  },
  {
   "cell_type": "code",
   "execution_count": null,
   "id": "5aaabc26-d0ec-4d54-bb7f-e5377399b5a6",
   "metadata": {},
   "outputs": [],
   "source": [
    "# Predicting Sales amount\n",
    "df2['sales_pred'] = lr.predict(X)\n",
    "plt.scatter(df2['sales_pred'], df2['Total Sales'])\n",
    "plt.xlabel(\"sales_pred\")\n",
    "plt.ylabel(\"Total Sales\")\n",
    "plt.title('Model correlation scatterplot')\n",
    "plt.show()"
   ]
  }
 ],
 "metadata": {
  "kernelspec": {
   "display_name": "Python (default)",
   "language": "python",
   "name": "python3"
  },
  "language_info": {
   "codemirror_mode": {
    "name": "ipython",
    "version": 3
   },
   "file_extension": ".py",
   "mimetype": "text/x-python",
   "name": "python",
   "nbconvert_exporter": "python",
   "pygments_lexer": "ipython3",
   "version": "3.12.1"
  }
 },
 "nbformat": 4,
 "nbformat_minor": 5
}
